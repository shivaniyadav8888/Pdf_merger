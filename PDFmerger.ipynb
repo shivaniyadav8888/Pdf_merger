{
  "nbformat": 4,
  "nbformat_minor": 0,
  "metadata": {
    "colab": {
      "provenance": []
    },
    "kernelspec": {
      "name": "python3",
      "display_name": "Python 3"
    },
    "language_info": {
      "name": "python"
    }
  },
  "cells": [
    {
      "cell_type": "code",
      "execution_count": 15,
      "metadata": {
        "id": "C1GHME5kFijl"
      },
      "outputs": [],
      "source": [
        "import PyPDF2"
      ]
    },
    {
      "cell_type": "code",
      "source": [
        "pip install PyPDF2"
      ],
      "metadata": {
        "colab": {
          "base_uri": "https://localhost:8080/",
          "height": 0
        },
        "id": "eZhUUn_PFxC1",
        "outputId": "f6bd5a37-d029-43e1-f5ff-e35d9a52f49b"
      },
      "execution_count": 13,
      "outputs": [
        {
          "output_type": "stream",
          "name": "stdout",
          "text": [
            "Requirement already satisfied: PyPDF2 in /usr/local/lib/python3.10/dist-packages (3.0.1)\n"
          ]
        }
      ]
    },
    {
      "cell_type": "code",
      "source": [
        "pdfFiles = [\"1.pdf\",\"2.pdf\"]"
      ],
      "metadata": {
        "id": "_ExTZy6IF_3A"
      },
      "execution_count": 16,
      "outputs": []
    },
    {
      "cell_type": "code",
      "source": [
        "merger = PyPDF2.PdfMerger()\n",
        "for filename in pdfFiles:\n",
        "  pdfFile = open (filename,'rb')\n",
        "  PdfReader = PyPDF2.PdfReader(pdfFile)\n",
        "  merger.append(PdfReader)\n",
        "  pdfFile.close()\n",
        "merger.write('merged.pdf')"
      ],
      "metadata": {
        "id": "IAA3puQMGqbd"
      },
      "execution_count": 23,
      "outputs": []
    },
    {
      "cell_type": "code",
      "source": [],
      "metadata": {
        "id": "UJ1kTo9EHBtQ"
      },
      "execution_count": null,
      "outputs": []
    }
  ]
}